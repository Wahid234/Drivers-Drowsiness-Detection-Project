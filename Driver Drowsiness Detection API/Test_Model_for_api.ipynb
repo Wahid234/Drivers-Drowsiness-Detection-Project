{
  "nbformat": 4,
  "nbformat_minor": 0,
  "metadata": {
    "colab": {
      "provenance": []
    },
    "kernelspec": {
      "name": "python3",
      "display_name": "Python 3"
    },
    "language_info": {
      "name": "python"
    }
  },
  "cells": [
    {
      "cell_type": "markdown",
      "source": [
        "#**Test Model**"
      ],
      "metadata": {
        "id": "ndO901HtGfhG"
      }
    },
    {
      "cell_type": "code",
      "source": [
        "import numpy as np\n",
        "import pandas as pd\n",
        "import os\n",
        "import tensorflow as tf\n",
        "\n",
        "from glob import glob\n",
        "from tqdm import tqdm\n",
        "\n",
        "import matplotlib.pyplot as plt\n",
        "from PIL import Image"
      ],
      "metadata": {
        "_uuid": "8f2839f25d086af736a60e9eeb907d3b93b6e0e5",
        "_cell_guid": "b1076dfc-b9ad-4769-8c92-a6c4dae69d19",
        "execution": {
          "iopub.status.busy": "2023-01-26T00:23:28.779842Z",
          "iopub.execute_input": "2023-01-26T00:23:28.780162Z",
          "iopub.status.idle": "2023-01-26T00:23:33.506708Z",
          "shell.execute_reply.started": "2023-01-26T00:23:28.780089Z",
          "shell.execute_reply": "2023-01-26T00:23:33.505755Z"
        },
        "trusted": true,
        "id": "46wwn1ed01EL"
      },
      "execution_count": 3,
      "outputs": []
    },
    {
      "cell_type": "code",
      "source": [
        "from keras.models import load_model\n",
        "best_model = load_model('bestModel.h5')\n"
      ],
      "metadata": {
        "execution": {
          "iopub.status.busy": "2023-01-26T00:53:31.010019Z",
          "iopub.execute_input": "2023-01-26T00:53:31.010401Z",
          "iopub.status.idle": "2023-01-26T00:53:31.72754Z",
          "shell.execute_reply.started": "2023-01-26T00:53:31.010367Z",
          "shell.execute_reply": "2023-01-26T00:53:31.726622Z"
        },
        "trusted": true,
        "id": "EazSKZ5E01EQ"
      },
      "execution_count": 4,
      "outputs": []
    },
    {
      "cell_type": "code",
      "source": [
        "\n",
        "from PIL import Image\n",
        "import numpy as np\n",
        "import cv2"
      ],
      "metadata": {
        "id": "1G3zSagsgRuY"
      },
      "execution_count": 5,
      "outputs": []
    },
    {
      "cell_type": "code",
      "source": [
        "eyes_roi = []\n",
        "image_path = []\n",
        "gray = []\n",
        "eyes = ()\n",
        "eyess = []\n",
        "roi_color = []\n",
        "e_image = []\n",
        "result = []"
      ],
      "metadata": {
        "id": "5sRJdLlyxH-5"
      },
      "execution_count": 6,
      "outputs": []
    },
    {
      "cell_type": "code",
      "source": [
        "faceCascade = cv2.CascadeClassifier(cv2.data.haarcascades + 'haarcascade_frontalface_alt.xml')\n",
        "eyeCascade = cv2.CascadeClassifier(cv2.data.haarcascades + 'haarcascade_eye.xml')"
      ],
      "metadata": {
        "id": "hO1Kd0ajfTPO"
      },
      "execution_count": 7,
      "outputs": []
    },
    {
      "cell_type": "code",
      "source": [
        "from PIL import Image\n",
        "import matplotlib.pyplot as plt\n",
        "image_path = cv2.imread('/content/images1/24.jpg')\n",
        "imagepath=[]\n",
        "eyeCascade = cv2.CascadeClassifier(cv2.data.haarcascades + 'haarcascade_eye.xml')\n",
        "gray = cv2.cvtColor(image_path, cv2.COLOR_BGR2GRAY)\n",
        "faces = faceCascade.detectMultiScale(image_path, 1.3, 5)\n",
        "face_detection_result =False\n",
        "eye_detection_result =False\n",
        "if len(faces) == 0: #check if there no face\n",
        "    print(face_detection_result)\n",
        "else: # else there face\n",
        "    face_detection_result = True\n",
        "    print(face_detection_result)\n",
        "    for (x, y, w, h) in faces: #loop in face image\n",
        "        cv2.rectangle(image_path, (x, y), (x + w, y + h), (255, 0, 0), 2)\n",
        "        roi_gray = cv2.cvtColor(image_path[y:y + h, x:x + w], cv2.COLOR_BGR2GRAY)\n",
        "        roi_color = image_path[y:y+h, x:x+w]\n",
        "        faces_roi = image_path[y:y + h, x:x + w]\n",
        "        if len(faces_roi) == 0: # if no face found\n",
        "            print('no face found')\n",
        "        else: #check eyes in the detected face\n",
        "            color_img =cv2.cvtColor(faces_roi, cv2.COLOR_BGR2RGB)\n",
        "            eyes = eyeCascade.detectMultiScale(color_img, 1.1, 4)\n",
        "            for (x, y, w, h) in eyes: # loop to draw line round eyes\n",
        "                cv2.rectangle(color_img, (x,y), (x+w, y+h), (0, 255, 0), 1)\n",
        "            eyes = eyeCascade.detectMultiScale(color_img, 1.1, 4)\n",
        "            count =0\n",
        "            for x, y,w, h in eyes:\n",
        "                count+=1\n",
        "                roi_gray = color_img[y:y+h, x:x+w]\n",
        "                roi_color = color_img[y:y+h, x:x+w]\n",
        "                eyess = eyeCascade.detectMultiScale(roi_gray)\n",
        "                if len(eyess) == 0:\n",
        "                    print(\"eyes not detected\"+str(count))\n",
        "                else:\n",
        "                    eye_detection_result =True\n",
        "                    print(eye_detection_result)\n",
        "                    for ex, ey, ew, eh in eyess :\n",
        "                      eyes_roi = roi_color[ey:ey+eh, ex:ex+ew]\n",
        "                    if len(eyes_roi) != 0:\n",
        "                          image = cv2.resize(eyes_roi, (64,64))\n",
        "                          image = np.expand_dims(image, axis=0)\n",
        "                          image = np.expand_dims(image, axis=-1)\n",
        "                          image = image/255.0\n",
        "                          e_image =cv2.cvtColor(eyes_roi, cv2.COLOR_BGR2RGB)\n",
        "                          e_image = cv2.resize(eyes_roi, (224,224))\n",
        "                          cv2.imwrite('neweyeimage'+str(count)+'.jpg', e_image)\n",
        "                          print(\"image saved\"+str(count))\n",
        "                    else:\n",
        "                          print(\"3)eyes not detected\")\n",
        "\n",
        "    #end loop in face\n"
      ],
      "metadata": {
        "colab": {
          "base_uri": "https://localhost:8080/"
        },
        "id": "8RNa2tM9-5GU",
        "outputId": "94a80325-d53c-49da-fcaf-ae9531e447ee"
      },
      "execution_count": 53,
      "outputs": [
        {
          "output_type": "stream",
          "name": "stdout",
          "text": [
            "True\n",
            "True\n",
            "image saved1\n",
            "True\n",
            "image saved2\n",
            "eyes not detected3\n"
          ]
        }
      ]
    },
    {
      "cell_type": "code",
      "source": [
        "def detection(e_image ,face_detection_result , eye_detection_result):\n",
        "\n",
        "  if  face_detection_result:\n",
        "    if eye_detection_result :\n",
        "        image = Image.fromarray(e_image)\n",
        "\n",
        "        image = image.resize((64, 64))\n",
        "        image = image.convert('L')\n",
        "        image = np.array(image)\n",
        "        image = image / 255.0\n",
        "        image = np.expand_dims(image, axis=0)\n",
        "        image = np.expand_dims(image, axis=-1)\n",
        "        result = best_model.predict(image)\n",
        "        if result > 0.35:\n",
        "           return 'Open'\n",
        "        else:\n",
        "           return 'Closed'\n",
        "    else:\n",
        "      print('no eye detected')\n",
        "  else:\n",
        "    print('no face  detected')\n",
        "print(detection(e_image ,face_detection_result , eye_detection_result))"
      ],
      "metadata": {
        "colab": {
          "base_uri": "https://localhost:8080/"
        },
        "id": "i6qOK04QriwX",
        "outputId": "f22bef56-1796-431a-8e08-20b9e466085c"
      },
      "execution_count": 59,
      "outputs": [
        {
          "output_type": "stream",
          "name": "stdout",
          "text": [
            "1/1 [==============================] - 0s 48ms/step\n",
            "Open\n"
          ]
        }
      ]
    }
  ]
}